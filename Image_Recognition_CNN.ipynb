{
  "nbformat": 4,
  "nbformat_minor": 0,
  "metadata": {
    "colab": {
      "name": "Image Recognition_CNN.ipynb",
      "provenance": []
    },
    "kernelspec": {
      "name": "python3",
      "display_name": "Python 3"
    }
  },
  "cells": [
    {
      "cell_type": "markdown",
      "metadata": {
        "id": "8A5UVaJQVKRm"
      },
      "source": [
        "# **Image Recognition using Convolutional Neural Network**\r\n",
        "\r\n",
        "---\r\n",
        "\r\n",
        "\r\n",
        "\r\n"
      ]
    },
    {
      "cell_type": "markdown",
      "metadata": {
        "id": "MLXHc4gbUWzC"
      },
      "source": [
        "**Mount with google drive**"
      ]
    },
    {
      "cell_type": "markdown",
      "metadata": {
        "id": "CDoGNhOsVtQI"
      },
      "source": [
        ""
      ]
    },
    {
      "cell_type": "code",
      "metadata": {
        "id": "DG4Z3OXi5HaM"
      },
      "source": [
        "from google.colab import drive\r\n",
        "drive.mount('/content/drive')"
      ],
      "execution_count": null,
      "outputs": []
    },
    {
      "cell_type": "markdown",
      "metadata": {
        "id": "UvZoL_qIUdZC"
      },
      "source": [
        "**Import Packages like Tensorflow, Matplotlib etc**"
      ]
    },
    {
      "cell_type": "code",
      "metadata": {
        "id": "JdwwmJA34ugy"
      },
      "source": [
        "import tensorflow as tf\r\n",
        "from tensorflow.keras import datasets, layers, models\r\n",
        "import matplotlib.pyplot as plt"
      ],
      "execution_count": 2,
      "outputs": []
    },
    {
      "cell_type": "markdown",
      "metadata": {
        "id": "I0MBjZp4UmGA"
      },
      "source": [
        "**Load and Prepare the dataset**"
      ]
    },
    {
      "cell_type": "code",
      "metadata": {
        "id": "mMhWfjqz6H5z"
      },
      "source": [
        "(train_images, train_labels), (test_images, test_labels) = datasets.cifar10.load_data()\r\n",
        "\r\n",
        "# Normalize pixel values to be between 0 and 1\r\n",
        "train_images, test_images = train_images / 255.0, test_images / 255.0"
      ],
      "execution_count": null,
      "outputs": []
    },
    {
      "cell_type": "markdown",
      "metadata": {
        "id": "1G1B4J52UuVp"
      },
      "source": [
        "**Display the dataset after labeling**"
      ]
    },
    {
      "cell_type": "code",
      "metadata": {
        "id": "qYwzYxQI7-fI"
      },
      "source": [
        "class_names = ['airplane', 'automobile', 'bird', 'cat', 'deer',\r\n",
        "               'dog', 'frog', 'horse', 'ship', 'truck']\r\n",
        "\r\n",
        "plt.figure(figsize=(10,10))\r\n",
        "for i in range(25):\r\n",
        "    plt.subplot(5,5,i+1)\r\n",
        "    plt.xticks([])\r\n",
        "    plt.yticks([])\r\n",
        "    plt.grid(False)\r\n",
        "    plt.imshow(train_images[i], cmap=plt.cm.binary)\r\n",
        "    # The CIFAR labels happen to be arrays, \r\n",
        "    # which is why you need the extra index\r\n",
        "    plt.xlabel(class_names[train_labels[i][0]])\r\n",
        "plt.show()"
      ],
      "execution_count": null,
      "outputs": []
    },
    {
      "cell_type": "markdown",
      "metadata": {
        "id": "L2J6JYtwU2gx"
      },
      "source": [
        "**CNN model building**"
      ]
    },
    {
      "cell_type": "code",
      "metadata": {
        "id": "noeBpdjd8CXf"
      },
      "source": [
        "model = models.Sequential()\r\n",
        "model.add(layers.Conv2D(32, (3, 3), activation='relu', input_shape=(32, 32, 3)))\r\n",
        "model.add(layers.MaxPooling2D((2, 2)))\r\n",
        "model.add(layers.Conv2D(64, (3, 3), activation='relu'))\r\n",
        "model.add(layers.MaxPooling2D((2, 2)))\r\n",
        "model.add(layers.Conv2D(64, (3, 3), activation='relu'))"
      ],
      "execution_count": 5,
      "outputs": []
    },
    {
      "cell_type": "code",
      "metadata": {
        "id": "3lOcgQ6f8GIC"
      },
      "source": [
        "model.summary()"
      ],
      "execution_count": null,
      "outputs": []
    },
    {
      "cell_type": "code",
      "metadata": {
        "id": "AS_0C4Ch8I0r"
      },
      "source": [
        "model.add(layers.Flatten())\r\n",
        "model.add(layers.Dense(64, activation='relu'))\r\n",
        "model.add(layers.Dense(10))"
      ],
      "execution_count": 7,
      "outputs": []
    },
    {
      "cell_type": "code",
      "metadata": {
        "id": "46soH46r8LsC"
      },
      "source": [
        "model.summary()"
      ],
      "execution_count": null,
      "outputs": []
    },
    {
      "cell_type": "markdown",
      "metadata": {
        "id": "_RZtwi9WS1Xz"
      },
      "source": [
        "**Train CNN model**"
      ]
    },
    {
      "cell_type": "code",
      "metadata": {
        "id": "ip8iC75k8NrG"
      },
      "source": [
        "model.compile(optimizer='adam',\r\n",
        "              loss=tf.keras.losses.SparseCategoricalCrossentropy(from_logits=True),\r\n",
        "              metrics=['accuracy'])\r\n",
        "\r\n",
        "history= model.fit(train_images, train_labels, epochs=10, \r\n",
        "                    validation_data=(test_images, test_labels))\r\n",
        "history1= model.fit(train_images, train_labels, epochs=15, \r\n",
        "                    validation_data=(test_images, test_labels))\r\n",
        "history2= model.fit(train_images, train_labels, epochs=100, \r\n",
        "                    validation_data=(test_images, test_labels))"
      ],
      "execution_count": null,
      "outputs": []
    },
    {
      "cell_type": "markdown",
      "metadata": {
        "id": "kMEVcWn0ShYl"
      },
      "source": [
        "**Diagnostic the Model**"
      ]
    },
    {
      "cell_type": "code",
      "metadata": {
        "id": "GaZXgBh49kwy"
      },
      "source": [
        "plt.plot(history.history['accuracy'], label='accuracy')\r\n",
        "plt.plot(history.history['val_accuracy'], label = 'val_accuracy')\r\n",
        "plt.xlabel('Epoch')\r\n",
        "plt.ylabel('Accuracy')\r\n",
        "plt.ylim([0.5, 1])\r\n",
        "plt.legend(loc='lower right')"
      ],
      "execution_count": null,
      "outputs": []
    },
    {
      "cell_type": "markdown",
      "metadata": {
        "id": "O4eoiJPQScp1"
      },
      "source": [
        "**Final Model**"
      ]
    },
    {
      "cell_type": "code",
      "metadata": {
        "id": "KhO6S0RdByxF"
      },
      "source": [
        "model.fit(train_images, train_labels, epochs=10, \r\n",
        "                    validation_data=(test_images, test_labels))"
      ],
      "execution_count": null,
      "outputs": []
    },
    {
      "cell_type": "code",
      "metadata": {
        "id": "bvHZZZk68cBA"
      },
      "source": [
        "model.save('final')"
      ],
      "execution_count": null,
      "outputs": []
    },
    {
      "cell_type": "markdown",
      "metadata": {
        "id": "kos8U8HqR-q8"
      },
      "source": [
        "**Evaluate Final Model**"
      ]
    },
    {
      "cell_type": "code",
      "metadata": {
        "id": "dhIrpc0h_1Rj"
      },
      "source": [
        "test_loss, test_acc = model.evaluate(test_images,  test_labels, verbose=2)"
      ],
      "execution_count": null,
      "outputs": []
    },
    {
      "cell_type": "code",
      "metadata": {
        "id": "KRL8XPIp8h0F"
      },
      "source": [
        "print(\"Accuracy of the model : \",test_acc * 100)"
      ],
      "execution_count": null,
      "outputs": []
    },
    {
      "cell_type": "markdown",
      "metadata": {
        "id": "yZ9tSkj2KZo0"
      },
      "source": [
        "**Make Prediction**"
      ]
    },
    {
      "cell_type": "code",
      "metadata": {
        "id": "jhaKp8bKKk0C"
      },
      "source": [
        "# make a prediction for a new image.\r\n",
        "from keras.preprocessing.image import load_img\r\n",
        "from keras.preprocessing.image import img_to_array\r\n",
        "from keras.models import load_model\r\n",
        " \r\n",
        "# load and prepare the image\r\n",
        "def load_image(filename):\r\n",
        "\t# load the image\r\n",
        "\timg = load_img(filename, target_size=(32, 32))\r\n",
        "\t# convert to array\r\n",
        "\timg = img_to_array(img)\r\n",
        "\t# reshape into a single sample with 3 channels\r\n",
        "\timg = img.reshape(1, 32, 32, 3)\r\n",
        "\t# prepare pixel data\r\n",
        "\timg = img.astype('float32')\r\n",
        "\timg = img / 255.0\r\n",
        "\treturn img"
      ],
      "execution_count": 74,
      "outputs": []
    },
    {
      "cell_type": "code",
      "metadata": {
        "id": "0IbaXwbhHECi"
      },
      "source": [
        "\r\n",
        "img=load_image('/content/drive/MyDrive/Colab Notebooks/sample_image.png')\r\n",
        "import numpy as np\r\n",
        "answer = np.argmax(model.predict(img), axis=-1)\r\n",
        "print(answer)\r\n",
        "if answer == 1:\r\n",
        "  print(\"Predicted Output : frog\")\r\n",
        "elif answer == 2:\r\n",
        "  print(\"Predicted Output : truck\")\r\n",
        "elif answer == 3:\r\n",
        "  print(\"Predicted Output : truck\")\r\n",
        "elif answer == 4:\r\n",
        "  print(\"Predicted Output : deer\")\r\n",
        "elif answer == 5:\r\n",
        "  print(\"Predicted Output : automobile\")\r\n",
        "elif answer == 6:\r\n",
        "  print(\"Predicted Output : automobile\")\r\n",
        "elif answer == 7:\r\n",
        "  print(\"Predicted Output : bird\")\r\n",
        "elif answer == 8:\r\n",
        "  print(\"Predicted Output : horse\")\r\n",
        "elif answer == 9:\r\n",
        "  print(\"Predicted Output : ship\")\r\n",
        "elif answer == 10:\r\n",
        "  print(\"Predicted Output : cat\")\r\n"
      ],
      "execution_count": null,
      "outputs": []
    },
    {
      "cell_type": "markdown",
      "metadata": {
        "id": "bo72JbweVIWb"
      },
      "source": [
        ""
      ]
    }
  ]
}